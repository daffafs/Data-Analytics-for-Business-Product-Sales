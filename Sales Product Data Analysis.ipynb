{
 "cells": [
  {
   "cell_type": "markdown",
   "id": "99a5a840",
   "metadata": {},
   "source": [
    "# Project Problem"
   ]
  },
  {
   "cell_type": "markdown",
   "id": "1215a01b",
   "metadata": {},
   "source": [
    "The sales department of a company that sells electronic goods has one year sales information. They want to do an analysis of the data to obtain information as a supporting material for decision making in their business. Because now the assumption is the end of the year. The company wants to provide a strategy to increase sales and customers. However, the company does not yet have a special strategy in the future. As data analyst, we are needed to process sales data in order to provide knowledge to the sales department and help answer the questions raised by them including:\n",
    "1. What was the best month for sales? How much was earned that month?\n",
    "2. What city had the highest number of sales?\n",
    "3. How Are Sales Trends in The Top 5 Cities?\n",
    "4. What time should we display adversedisement to maximize the likelihood of customer's buying product?\n",
    "5. What products are most often sold together?\n",
    "6. What Product Sold the Most? Why do you think it sold the most?"
   ]
  },
  {
   "cell_type": "markdown",
   "id": "e6fa3228",
   "metadata": {},
   "source": [
    "# Project Goal"
   ]
  },
  {
   "cell_type": "markdown",
   "id": "d1bf0f64",
   "metadata": {},
   "source": [
    "The purpose of this project is to answer the questions that have been described in business problems. In this project we will:\n",
    "1. Import data and combine it in one dataframe\n",
    "2. Data Profile: Search for information about data shape, data type, data characteristics, missing value data, unique data values, and find data duplication.\n",
    "3. Data Cleansing: Handling missing value, deleting duplicate data, changing data types, and changing data formats.\n",
    "4. Exploring data using data manipulation and data visualization\n",
    "\n",
    "This project consists of three parts:\n",
    "1. Prepare Data\n",
    "    - Data import\n",
    "    - Data Profiling\n",
    "    - DataCleansing\n",
    "2. Explore (Analyzing Data)\n",
    "3. Conclusion"
   ]
  },
  {
   "cell_type": "markdown",
   "id": "c0d2a36f",
   "metadata": {},
   "source": [
    "# Data Description"
   ]
  },
  {
   "cell_type": "markdown",
   "id": "8d7a2b38",
   "metadata": {},
   "source": [
    "1. Order ID - An Order ID is the number system that Amazon uses exclusively to keep track of orders. Each order receives its own Order ID that will not be duplicated. This number can be useful to the seller when attempting to find out certain details about an order such as shipment date or status.\n",
    "2. Product - The product that have been sold.\n",
    "3. Quantity Ordered - Ordered Quantity is the total item quantity ordered in the initial order (without any changes).\n",
    "4. Price Each - The price of each products.\n",
    "5. Order Date - This is the date the customer is requesting the order be shipped.\n",
    "6. Purchase Address - The purchase order is prepared by the buyer, often through a purchasing department. The purchase order, or PO, usually includes a PO number, which is useful in matching shipments with purchases; a shipping date; billing address; shipping address; and the request items, quantities and price."
   ]
  },
  {
   "cell_type": "markdown",
   "id": "832b33a2",
   "metadata": {},
   "source": [
    "# Prepare Data"
   ]
  },
  {
   "cell_type": "markdown",
   "id": "d3aa20d4",
   "metadata": {},
   "source": [
    "## Import data"
   ]
  },
  {
   "cell_type": "code",
   "execution_count": 1,
   "id": "99a83011",
   "metadata": {},
   "outputs": [],
   "source": [
    "import pandas as pd\n",
    "import matplotlib.pyplot as plt\n",
    "import seaborn as sns\n",
    "\n",
    "from itertools import combinations\n",
    "from collections import Counter\n",
    "sns.set()"
   ]
  },
  {
   "cell_type": "code",
   "execution_count": 2,
   "id": "49bd2899",
   "metadata": {},
   "outputs": [],
   "source": [
    "# import data to separate dataframe\n",
    "df1 = pd.read_csv(\"Sales_January_2019.csv\")\n",
    "df2 = pd.read_csv(\"Sales_February_2019.csv\")\n",
    "df3 = pd.read_csv(\"Sales_March_2019.csv\")\n",
    "df4 = pd.read_csv(\"Sales_April_2019.csv\")\n",
    "df5 = pd.read_csv(\"Sales_May_2019.csv\")\n",
    "df6 = pd.read_csv(\"Sales_June_2019.csv\")\n",
    "df7 = pd.read_csv(\"Sales_July_2019.csv\")\n",
    "df8 = pd.read_csv(\"Sales_August_2019.csv\")\n",
    "df9 = pd.read_csv(\"Sales_September_2019.csv\")\n",
    "df10 = pd.read_csv(\"Sales_October_2019.csv\")\n",
    "df11 = pd.read_csv(\"Sales_November_2019.csv\")\n",
    "df12 = pd.read_csv(\"Sales_December_2019.csv\")\n",
    "\n",
    "# concatenate dataframe\n",
    "df = pd.concat([df1, df2, df3, df4, df5, df6, df7, df8, df9, df10, df11, df12])"
   ]
  },
  {
   "cell_type": "markdown",
   "id": "f7d2013d",
   "metadata": {},
   "source": [
    "## Data Profiling"
   ]
  },
  {
   "cell_type": "markdown",
   "id": "c4304211",
   "metadata": {},
   "source": [
    "In this section, we will try to find information about the data types used, look at the datasets for inconsistent data formats, and identify the most frequent values."
   ]
  },
  {
   "cell_type": "markdown",
   "id": "b90af4c1",
   "metadata": {},
   "source": [
    "### Check data shape"
   ]
  },
  {
   "cell_type": "code",
   "execution_count": 3,
   "id": "f5f10ad9",
   "metadata": {},
   "outputs": [
    {
     "name": "stdout",
     "output_type": "stream",
     "text": [
      "Total rows and columns dataset: 186850 rows and 6 columns\n",
      "------------------------------------------------------------\n",
      "Top 5 dataset: \n"
     ]
    },
    {
     "data": {
      "text/html": [
       "<div>\n",
       "<style scoped>\n",
       "    .dataframe tbody tr th:only-of-type {\n",
       "        vertical-align: middle;\n",
       "    }\n",
       "\n",
       "    .dataframe tbody tr th {\n",
       "        vertical-align: top;\n",
       "    }\n",
       "\n",
       "    .dataframe thead th {\n",
       "        text-align: right;\n",
       "    }\n",
       "</style>\n",
       "<table border=\"1\" class=\"dataframe\">\n",
       "  <thead>\n",
       "    <tr style=\"text-align: right;\">\n",
       "      <th></th>\n",
       "      <th>Order ID</th>\n",
       "      <th>Product</th>\n",
       "      <th>Quantity Ordered</th>\n",
       "      <th>Price Each</th>\n",
       "      <th>Order Date</th>\n",
       "      <th>Purchase Address</th>\n",
       "    </tr>\n",
       "  </thead>\n",
       "  <tbody>\n",
       "    <tr>\n",
       "      <th>0</th>\n",
       "      <td>141234</td>\n",
       "      <td>iPhone</td>\n",
       "      <td>1</td>\n",
       "      <td>700</td>\n",
       "      <td>01/22/19 21:25</td>\n",
       "      <td>944 Walnut St, Boston, MA 02215</td>\n",
       "    </tr>\n",
       "    <tr>\n",
       "      <th>1</th>\n",
       "      <td>141235</td>\n",
       "      <td>Lightning Charging Cable</td>\n",
       "      <td>1</td>\n",
       "      <td>14.95</td>\n",
       "      <td>01/28/19 14:15</td>\n",
       "      <td>185 Maple St, Portland, OR 97035</td>\n",
       "    </tr>\n",
       "    <tr>\n",
       "      <th>2</th>\n",
       "      <td>141236</td>\n",
       "      <td>Wired Headphones</td>\n",
       "      <td>2</td>\n",
       "      <td>11.99</td>\n",
       "      <td>01/17/19 13:33</td>\n",
       "      <td>538 Adams St, San Francisco, CA 94016</td>\n",
       "    </tr>\n",
       "    <tr>\n",
       "      <th>3</th>\n",
       "      <td>141237</td>\n",
       "      <td>27in FHD Monitor</td>\n",
       "      <td>1</td>\n",
       "      <td>149.99</td>\n",
       "      <td>01/05/19 20:33</td>\n",
       "      <td>738 10th St, Los Angeles, CA 90001</td>\n",
       "    </tr>\n",
       "    <tr>\n",
       "      <th>4</th>\n",
       "      <td>141238</td>\n",
       "      <td>Wired Headphones</td>\n",
       "      <td>1</td>\n",
       "      <td>11.99</td>\n",
       "      <td>01/25/19 11:59</td>\n",
       "      <td>387 10th St, Austin, TX 73301</td>\n",
       "    </tr>\n",
       "  </tbody>\n",
       "</table>\n",
       "</div>"
      ],
      "text/plain": [
       "  Order ID                   Product Quantity Ordered Price Each  \\\n",
       "0   141234                    iPhone                1        700   \n",
       "1   141235  Lightning Charging Cable                1      14.95   \n",
       "2   141236          Wired Headphones                2      11.99   \n",
       "3   141237          27in FHD Monitor                1     149.99   \n",
       "4   141238          Wired Headphones                1      11.99   \n",
       "\n",
       "       Order Date                       Purchase Address  \n",
       "0  01/22/19 21:25        944 Walnut St, Boston, MA 02215  \n",
       "1  01/28/19 14:15       185 Maple St, Portland, OR 97035  \n",
       "2  01/17/19 13:33  538 Adams St, San Francisco, CA 94016  \n",
       "3  01/05/19 20:33     738 10th St, Los Angeles, CA 90001  \n",
       "4  01/25/19 11:59          387 10th St, Austin, TX 73301  "
      ]
     },
     "execution_count": 3,
     "metadata": {},
     "output_type": "execute_result"
    }
   ],
   "source": [
    "# check number of rows and columns\n",
    "print(f\"Total rows and columns dataset: {df.shape[0]} rows and {df.shape[1]} columns\")\n",
    "\n",
    "# check top 5 dataset\n",
    "print('-'*60)\n",
    "print(\"Top 5 dataset: \")\n",
    "df.head()"
   ]
  },
  {
   "cell_type": "code",
   "execution_count": 4,
   "id": "93a66c0e",
   "metadata": {},
   "outputs": [
    {
     "name": "stdout",
     "output_type": "stream",
     "text": [
      "<class 'pandas.core.frame.DataFrame'>\n",
      "Int64Index: 186850 entries, 0 to 25116\n",
      "Data columns (total 6 columns):\n",
      " #   Column            Non-Null Count   Dtype \n",
      "---  ------            --------------   ----- \n",
      " 0   Order ID          186305 non-null  object\n",
      " 1   Product           186305 non-null  object\n",
      " 2   Quantity Ordered  186305 non-null  object\n",
      " 3   Price Each        186305 non-null  object\n",
      " 4   Order Date        186305 non-null  object\n",
      " 5   Purchase Address  186305 non-null  object\n",
      "dtypes: object(6)\n",
      "memory usage: 10.0+ MB\n"
     ]
    }
   ],
   "source": [
    "# check data type\n",
    "df.info()"
   ]
  },
  {
   "cell_type": "code",
   "execution_count": 5,
   "id": "cf7b63a0",
   "metadata": {},
   "outputs": [
    {
     "data": {
      "text/html": [
       "<div>\n",
       "<style scoped>\n",
       "    .dataframe tbody tr th:only-of-type {\n",
       "        vertical-align: middle;\n",
       "    }\n",
       "\n",
       "    .dataframe tbody tr th {\n",
       "        vertical-align: top;\n",
       "    }\n",
       "\n",
       "    .dataframe thead th {\n",
       "        text-align: right;\n",
       "    }\n",
       "</style>\n",
       "<table border=\"1\" class=\"dataframe\">\n",
       "  <thead>\n",
       "    <tr style=\"text-align: right;\">\n",
       "      <th></th>\n",
       "      <th>Product</th>\n",
       "      <th>Price Each</th>\n",
       "      <th>Quantity Ordered</th>\n",
       "    </tr>\n",
       "  </thead>\n",
       "  <tbody>\n",
       "    <tr>\n",
       "      <th>count</th>\n",
       "      <td>186305</td>\n",
       "      <td>186305</td>\n",
       "      <td>186305</td>\n",
       "    </tr>\n",
       "    <tr>\n",
       "      <th>unique</th>\n",
       "      <td>20</td>\n",
       "      <td>24</td>\n",
       "      <td>10</td>\n",
       "    </tr>\n",
       "    <tr>\n",
       "      <th>top</th>\n",
       "      <td>USB-C Charging Cable</td>\n",
       "      <td>11.95</td>\n",
       "      <td>1</td>\n",
       "    </tr>\n",
       "    <tr>\n",
       "      <th>freq</th>\n",
       "      <td>21903</td>\n",
       "      <td>21903</td>\n",
       "      <td>168552</td>\n",
       "    </tr>\n",
       "  </tbody>\n",
       "</table>\n",
       "</div>"
      ],
      "text/plain": [
       "                     Product Price Each Quantity Ordered\n",
       "count                 186305     186305           186305\n",
       "unique                    20         24               10\n",
       "top     USB-C Charging Cable      11.95                1\n",
       "freq                   21903      21903           168552"
      ]
     },
     "execution_count": 5,
     "metadata": {},
     "output_type": "execute_result"
    }
   ],
   "source": [
    "# check count, unique value, top frequency, and frequency\n",
    "df[[\"Product\", \"Price Each\", \"Quantity Ordered\"]].describe()"
   ]
  },
  {
   "cell_type": "code",
   "execution_count": 6,
   "id": "16c1296e",
   "metadata": {},
   "outputs": [
    {
     "name": "stdout",
     "output_type": "stream",
     "text": [
      "Number of missing value:\n",
      "------------------------------\n"
     ]
    },
    {
     "data": {
      "text/plain": [
       "Order ID            545\n",
       "Product             545\n",
       "Quantity Ordered    545\n",
       "Price Each          545\n",
       "Order Date          545\n",
       "Purchase Address    545\n",
       "dtype: int64"
      ]
     },
     "execution_count": 6,
     "metadata": {},
     "output_type": "execute_result"
    }
   ],
   "source": [
    "# check missing value\n",
    "print(\"Number of missing value:\")\n",
    "print(\"-\"*30)\n",
    "df.isnull().sum()"
   ]
  },
  {
   "cell_type": "code",
   "execution_count": 7,
   "id": "4461281c",
   "metadata": {},
   "outputs": [
    {
     "name": "stdout",
     "output_type": "stream",
     "text": [
      "Number of distinct value: \n",
      "------------------------------\n"
     ]
    },
    {
     "data": {
      "text/plain": [
       "Order ID            178438\n",
       "Product                 20\n",
       "Quantity Ordered        10\n",
       "Price Each              24\n",
       "Order Date          142396\n",
       "Purchase Address    140788\n",
       "dtype: int64"
      ]
     },
     "execution_count": 7,
     "metadata": {},
     "output_type": "execute_result"
    }
   ],
   "source": [
    "# check distinct value\n",
    "print(\"Number of distinct value: \")\n",
    "print(\"-\"*30)\n",
    "df.nunique()"
   ]
  },
  {
   "cell_type": "code",
   "execution_count": 8,
   "id": "7abdd5b8",
   "metadata": {},
   "outputs": [
    {
     "name": "stdout",
     "output_type": "stream",
     "text": [
      "Number of duplicate data:\n",
      "------------------------------\n"
     ]
    },
    {
     "data": {
      "text/plain": [
       "1162"
      ]
     },
     "execution_count": 8,
     "metadata": {},
     "output_type": "execute_result"
    }
   ],
   "source": [
    "# check for duplicate data\n",
    "print(\"Number of duplicate data:\")\n",
    "print(\"-\"*30)\n",
    "df.duplicated().sum()"
   ]
  },
  {
   "cell_type": "markdown",
   "id": "4fef6208",
   "metadata": {},
   "source": [
    "From the profiling data above, we can see data information that:\n",
    "1. The size of this data is 186850 rows and 6 columns\n",
    "2. The data type is incorrect. Some numeric data has an object data type. This will interfere with the data analysis process later\n",
    "3. The data format is less usable. Order date and Purchase Address are too messy to clean up first\n",
    "4. There are missing values in all columns.\n",
    "5. There are duplicate data"
   ]
  },
  {
   "cell_type": "markdown",
   "id": "b07f94ad",
   "metadata": {},
   "source": [
    "## Data Cleansing"
   ]
  },
  {
   "cell_type": "markdown",
   "id": "90b030de",
   "metadata": {},
   "source": [
    "In this section, we will clean up the data based on the findings at the data profiling stage. We'll start by dealing with missing values and duplicate data"
   ]
  },
  {
   "cell_type": "markdown",
   "id": "a9bb6433",
   "metadata": {},
   "source": [
    "### Removing missing value and duplicate data"
   ]
  },
  {
   "cell_type": "code",
   "execution_count": 9,
   "id": "ee09d8fa",
   "metadata": {},
   "outputs": [
    {
     "name": "stdout",
     "output_type": "stream",
     "text": [
      "Number of missing value: \n",
      "Order ID            0\n",
      "Product             0\n",
      "Quantity Ordered    0\n",
      "Price Each          0\n",
      "Order Date          0\n",
      "Purchase Address    0\n",
      "dtype: int64\n",
      "\n",
      "Number of duplicate data:  0\n"
     ]
    }
   ],
   "source": [
    "# removing missing value\n",
    "df = df.dropna(how=\"all\")\n",
    "\n",
    "# removing duplicate data\n",
    "df = df.drop_duplicates()\n",
    "\n",
    "# check\n",
    "print(\"Number of missing value: \")\n",
    "print(df.isnull().sum())\n",
    "print(\"\\nNumber of duplicate data: \", df.duplicated().sum())"
   ]
  },
  {
   "cell_type": "markdown",
   "id": "16659311",
   "metadata": {},
   "source": [
    "### Change the data type"
   ]
  },
  {
   "cell_type": "code",
   "execution_count": 10,
   "id": "5ff3dbde",
   "metadata": {},
   "outputs": [],
   "source": [
    "df = df[df['Order Date'].str[0:2]!='Or']"
   ]
  },
  {
   "cell_type": "code",
   "execution_count": 11,
   "id": "45760fc4",
   "metadata": {},
   "outputs": [],
   "source": [
    "# Change the data type\n",
    "df[\"Quantity Ordered\"] = pd.to_numeric(df[\"Quantity Ordered\"])\n",
    "df[\"Price Each\"] = pd.to_numeric(df[\"Price Each\"])\n",
    "df[\"Order Date\"] = pd.to_datetime(df[\"Order Date\"])"
   ]
  },
  {
   "cell_type": "markdown",
   "id": "bd4a561c",
   "metadata": {},
   "source": [
    "### Changing data formats"
   ]
  },
  {
   "cell_type": "code",
   "execution_count": 12,
   "id": "6ae13296",
   "metadata": {},
   "outputs": [],
   "source": [
    "# create city column from pruchase address\n",
    "df[\"City\"] = df[\"Purchase Address\"].apply(lambda x: x.split(',')[1])"
   ]
  },
  {
   "cell_type": "code",
   "execution_count": 13,
   "id": "0bbbfc9c",
   "metadata": {},
   "outputs": [],
   "source": [
    "# create a month and our column from purchase date\n",
    "df[\"Month\"] = df[\"Order Date\"].dt.month\n",
    "df[\"Hour\"] = df[\"Order Date\"].dt.hour"
   ]
  },
  {
   "cell_type": "code",
   "execution_count": 14,
   "id": "a9e9eaab",
   "metadata": {},
   "outputs": [],
   "source": [
    "# create total sales column \n",
    "df[\"Total Sales\"] = df[\"Quantity Ordered\"] * df[\"Price Each\"]"
   ]
  },
  {
   "cell_type": "code",
   "execution_count": 15,
   "id": "dcd66140",
   "metadata": {},
   "outputs": [],
   "source": [
    "# drop column order date and purchase address\n",
    "df.drop(columns=[\"Order Date\", \"Purchase Address\"], inplace=True)"
   ]
  },
  {
   "cell_type": "code",
   "execution_count": 16,
   "id": "19feb318",
   "metadata": {},
   "outputs": [
    {
     "data": {
      "text/html": [
       "<div>\n",
       "<style scoped>\n",
       "    .dataframe tbody tr th:only-of-type {\n",
       "        vertical-align: middle;\n",
       "    }\n",
       "\n",
       "    .dataframe tbody tr th {\n",
       "        vertical-align: top;\n",
       "    }\n",
       "\n",
       "    .dataframe thead th {\n",
       "        text-align: right;\n",
       "    }\n",
       "</style>\n",
       "<table border=\"1\" class=\"dataframe\">\n",
       "  <thead>\n",
       "    <tr style=\"text-align: right;\">\n",
       "      <th></th>\n",
       "      <th>Order ID</th>\n",
       "      <th>Product</th>\n",
       "      <th>Quantity Ordered</th>\n",
       "      <th>Price Each</th>\n",
       "      <th>City</th>\n",
       "      <th>Month</th>\n",
       "      <th>Hour</th>\n",
       "      <th>Total Sales</th>\n",
       "    </tr>\n",
       "  </thead>\n",
       "  <tbody>\n",
       "    <tr>\n",
       "      <th>0</th>\n",
       "      <td>141234</td>\n",
       "      <td>iPhone</td>\n",
       "      <td>1</td>\n",
       "      <td>700.00</td>\n",
       "      <td>Boston</td>\n",
       "      <td>1</td>\n",
       "      <td>21</td>\n",
       "      <td>700.00</td>\n",
       "    </tr>\n",
       "    <tr>\n",
       "      <th>1</th>\n",
       "      <td>141235</td>\n",
       "      <td>Lightning Charging Cable</td>\n",
       "      <td>1</td>\n",
       "      <td>14.95</td>\n",
       "      <td>Portland</td>\n",
       "      <td>1</td>\n",
       "      <td>14</td>\n",
       "      <td>14.95</td>\n",
       "    </tr>\n",
       "    <tr>\n",
       "      <th>2</th>\n",
       "      <td>141236</td>\n",
       "      <td>Wired Headphones</td>\n",
       "      <td>2</td>\n",
       "      <td>11.99</td>\n",
       "      <td>San Francisco</td>\n",
       "      <td>1</td>\n",
       "      <td>13</td>\n",
       "      <td>23.98</td>\n",
       "    </tr>\n",
       "    <tr>\n",
       "      <th>3</th>\n",
       "      <td>141237</td>\n",
       "      <td>27in FHD Monitor</td>\n",
       "      <td>1</td>\n",
       "      <td>149.99</td>\n",
       "      <td>Los Angeles</td>\n",
       "      <td>1</td>\n",
       "      <td>20</td>\n",
       "      <td>149.99</td>\n",
       "    </tr>\n",
       "    <tr>\n",
       "      <th>4</th>\n",
       "      <td>141238</td>\n",
       "      <td>Wired Headphones</td>\n",
       "      <td>1</td>\n",
       "      <td>11.99</td>\n",
       "      <td>Austin</td>\n",
       "      <td>1</td>\n",
       "      <td>11</td>\n",
       "      <td>11.99</td>\n",
       "    </tr>\n",
       "  </tbody>\n",
       "</table>\n",
       "</div>"
      ],
      "text/plain": [
       "  Order ID                   Product  Quantity Ordered  Price Each  \\\n",
       "0   141234                    iPhone                 1      700.00   \n",
       "1   141235  Lightning Charging Cable                 1       14.95   \n",
       "2   141236          Wired Headphones                 2       11.99   \n",
       "3   141237          27in FHD Monitor                 1      149.99   \n",
       "4   141238          Wired Headphones                 1       11.99   \n",
       "\n",
       "             City  Month  Hour  Total Sales  \n",
       "0          Boston      1    21       700.00  \n",
       "1        Portland      1    14        14.95  \n",
       "2   San Francisco      1    13        23.98  \n",
       "3     Los Angeles      1    20       149.99  \n",
       "4          Austin      1    11        11.99  "
      ]
     },
     "execution_count": 16,
     "metadata": {},
     "output_type": "execute_result"
    }
   ],
   "source": [
    "# check dataset\n",
    "df.head()"
   ]
  },
  {
   "cell_type": "code",
   "execution_count": 17,
   "id": "8cb27b97",
   "metadata": {},
   "outputs": [
    {
     "data": {
      "text/plain": [
       "Text(0.5, 1.0, 'Feature Correlation')"
      ]
     },
     "execution_count": 17,
     "metadata": {},
     "output_type": "execute_result"
    },
    {
     "data": {
      "image/png": "[encoded data removed]",
      "text/plain": [
       "<Figure size 720x432 with 2 Axes>"
      ]
     },
     "metadata": {},
     "output_type": "display_data"
    }
   ],
   "source": [
    "# check for data correlation\n",
    "plt.figure(figsize=(10,6))\n",
    "corr = df.corr(method=\"pearson\")\n",
    "sns.heatmap(corr, annot=True, cmap=\"mako\")\n",
    "plt.title(\"Feature Correlation\")"
   ]
  },
  {
   "cell_type": "markdown",
   "id": "14cc1272",
   "metadata": {},
   "source": [
    "Data looks cleaner now. We've done some handling to deal with messy data. Next, we will explore to answer business problems"
   ]
  },
  {
   "cell_type": "markdown",
   "id": "3514eb8f",
   "metadata": {},
   "source": [
    "# Explore"
   ]
  },
  {
   "cell_type": "markdown",
   "id": "db30ef1f",
   "metadata": {},
   "source": [
    "### Question 1: What was the best month for sales? How much was earned that month?"
   ]
  },
  {
   "cell_type": "code",
   "execution_count": 18,
   "id": "44768c85",
   "metadata": {},
   "outputs": [],
   "source": [
    "df_month = pd.DataFrame(df.groupby(\"Month\")['Total Sales'].sum()).reset_index()"
   ]
  },
  {
   "cell_type": "code",
   "execution_count": 19,
   "id": "9b0d99a8",
   "metadata": {},
   "outputs": [
    {
     "data": {
      "text/html": [
       "<div>\n",
       "<style scoped>\n",
       "    .dataframe tbody tr th:only-of-type {\n",
       "        vertical-align: middle;\n",
       "    }\n",
       "\n",
       "    .dataframe tbody tr th {\n",
       "        vertical-align: top;\n",
       "    }\n",
       "\n",
       "    .dataframe thead th {\n",
       "        text-align: right;\n",
       "    }\n",
       "</style>\n",
       "<table border=\"1\" class=\"dataframe\">\n",
       "  <thead>\n",
       "    <tr style=\"text-align: right;\">\n",
       "      <th></th>\n",
       "      <th>Month</th>\n",
       "      <th>Total Sales</th>\n",
       "    </tr>\n",
       "  </thead>\n",
       "  <tbody>\n",
       "    <tr>\n",
       "      <th>0</th>\n",
       "      <td>1</td>\n",
       "      <td>1821413.16</td>\n",
       "    </tr>\n",
       "    <tr>\n",
       "      <th>1</th>\n",
       "      <td>2</td>\n",
       "      <td>2200078.08</td>\n",
       "    </tr>\n",
       "    <tr>\n",
       "      <th>2</th>\n",
       "      <td>3</td>\n",
       "      <td>2804973.35</td>\n",
       "    </tr>\n",
       "    <tr>\n",
       "      <th>3</th>\n",
       "      <td>4</td>\n",
       "      <td>3389217.98</td>\n",
       "    </tr>\n",
       "    <tr>\n",
       "      <th>4</th>\n",
       "      <td>5</td>\n",
       "      <td>3150616.23</td>\n",
       "    </tr>\n",
       "    <tr>\n",
       "      <th>5</th>\n",
       "      <td>6</td>\n",
       "      <td>2576280.15</td>\n",
       "    </tr>\n",
       "    <tr>\n",
       "      <th>6</th>\n",
       "      <td>7</td>\n",
       "      <td>2646461.32</td>\n",
       "    </tr>\n",
       "    <tr>\n",
       "      <th>7</th>\n",
       "      <td>8</td>\n",
       "      <td>2241083.37</td>\n",
       "    </tr>\n",
       "    <tr>\n",
       "      <th>8</th>\n",
       "      <td>9</td>\n",
       "      <td>2094465.69</td>\n",
       "    </tr>\n",
       "    <tr>\n",
       "      <th>9</th>\n",
       "      <td>10</td>\n",
       "      <td>3734777.86</td>\n",
       "    </tr>\n",
       "    <tr>\n",
       "      <th>10</th>\n",
       "      <td>11</td>\n",
       "      <td>3197875.05</td>\n",
       "    </tr>\n",
       "    <tr>\n",
       "      <th>11</th>\n",
       "      <td>12</td>\n",
       "      <td>4608295.70</td>\n",
       "    </tr>\n",
       "  </tbody>\n",
       "</table>\n",
       "</div>"
      ],
      "text/plain": [
       "    Month  Total Sales\n",
       "0       1   1821413.16\n",
       "1       2   2200078.08\n",
       "2       3   2804973.35\n",
       "3       4   3389217.98\n",
       "4       5   3150616.23\n",
       "5       6   2576280.15\n",
       "6       7   2646461.32\n",
       "7       8   2241083.37\n",
       "8       9   2094465.69\n",
       "9      10   3734777.86\n",
       "10     11   3197875.05\n",
       "11     12   4608295.70"
      ]
     },
     "execution_count": 19,
     "metadata": {},
     "output_type": "execute_result"
    }
   ],
   "source": [
    "df_month"
   ]
  },
  {
   "cell_type": "code",
   "execution_count": 20,
   "id": "4d27cadb",
   "metadata": {},
   "outputs": [
    {
     "data": {
      "image/png": "[encoded data removed]",
      "text/plain": [
       "<Figure size 864x576 with 1 Axes>"
      ]
     },
     "metadata": {},
     "output_type": "display_data"
    }
   ],
   "source": [
    "fig, ax = plt.subplots(figsize=(12,8))\n",
    "\n",
    "bars = ax.bar(\n",
    "    x = df_month['Month'],\n",
    "    height = df_month[\"Total Sales\"]\n",
    ")\n",
    "plt.title(\"Total Sales per Month\", pad=20, fontsize=20)\n",
    "plt.xlabel(\"Month\")\n",
    "plt.ylabel(\"Total Sales\")\n",
    "labels, locations = plt.yticks()\n",
    "plt.yticks(labels, (labels/1).astype(int))\n",
    "\n",
    "for bar in bars:\n",
    "  ax.text(\n",
    "      bar.get_x() + bar.get_width() / 2,\n",
    "      bar.get_height() + 0.8,\n",
    "      round(bar.get_height(), 1),\n",
    "      horizontalalignment='center'\n",
    "  )\n",
    "\n",
    "plt.show()"
   ]
  },
  {
   "cell_type": "markdown",
   "id": "9a637229",
   "metadata": {},
   "source": [
    "From the bar chart above, the most sales occurred in December. While the lowest is in January. We can see the trend of data starting from April decreased until September. We can relate this downward trend to what events occurred during these months. The highest earnings in december reached $ 4608295.70"
   ]
  },
  {
   "cell_type": "markdown",
   "id": "1456ad9a",
   "metadata": {},
   "source": [
    "### Question 2: What City had the highest number of sales?"
   ]
  },
  {
   "cell_type": "code",
   "execution_count": 21,
   "id": "8325109c",
   "metadata": {},
   "outputs": [],
   "source": [
    "df_city = pd.DataFrame(df.groupby(\"City\")[\"Total Sales\"].sum()).reset_index().sort_values(by='Total Sales', ascending=False)"
   ]
  },
  {
   "cell_type": "code",
   "execution_count": 22,
   "id": "9896e990",
   "metadata": {},
   "outputs": [
    {
     "data": {
      "text/html": [
       "<div>\n",
       "<style scoped>\n",
       "    .dataframe tbody tr th:only-of-type {\n",
       "        vertical-align: middle;\n",
       "    }\n",
       "\n",
       "    .dataframe tbody tr th {\n",
       "        vertical-align: top;\n",
       "    }\n",
       "\n",
       "    .dataframe thead th {\n",
       "        text-align: right;\n",
       "    }\n",
       "</style>\n",
       "<table border=\"1\" class=\"dataframe\">\n",
       "  <thead>\n",
       "    <tr style=\"text-align: right;\">\n",
       "      <th></th>\n",
       "      <th>City</th>\n",
       "      <th>Total Sales</th>\n",
       "    </tr>\n",
       "  </thead>\n",
       "  <tbody>\n",
       "    <tr>\n",
       "      <th>7</th>\n",
       "      <td>San Francisco</td>\n",
       "      <td>8254743.55</td>\n",
       "    </tr>\n",
       "    <tr>\n",
       "      <th>4</th>\n",
       "      <td>Los Angeles</td>\n",
       "      <td>5448304.28</td>\n",
       "    </tr>\n",
       "    <tr>\n",
       "      <th>5</th>\n",
       "      <td>New York City</td>\n",
       "      <td>4661867.14</td>\n",
       "    </tr>\n",
       "    <tr>\n",
       "      <th>2</th>\n",
       "      <td>Boston</td>\n",
       "      <td>3658627.65</td>\n",
       "    </tr>\n",
       "    <tr>\n",
       "      <th>0</th>\n",
       "      <td>Atlanta</td>\n",
       "      <td>2794199.07</td>\n",
       "    </tr>\n",
       "    <tr>\n",
       "      <th>3</th>\n",
       "      <td>Dallas</td>\n",
       "      <td>2765373.96</td>\n",
       "    </tr>\n",
       "    <tr>\n",
       "      <th>8</th>\n",
       "      <td>Seattle</td>\n",
       "      <td>2745046.02</td>\n",
       "    </tr>\n",
       "    <tr>\n",
       "      <th>6</th>\n",
       "      <td>Portland</td>\n",
       "      <td>2319331.94</td>\n",
       "    </tr>\n",
       "    <tr>\n",
       "      <th>1</th>\n",
       "      <td>Austin</td>\n",
       "      <td>1818044.33</td>\n",
       "    </tr>\n",
       "  </tbody>\n",
       "</table>\n",
       "</div>"
      ],
      "text/plain": [
       "             City  Total Sales\n",
       "7   San Francisco   8254743.55\n",
       "4     Los Angeles   5448304.28\n",
       "5   New York City   4661867.14\n",
       "2          Boston   3658627.65\n",
       "0         Atlanta   2794199.07\n",
       "3          Dallas   2765373.96\n",
       "8         Seattle   2745046.02\n",
       "6        Portland   2319331.94\n",
       "1          Austin   1818044.33"
      ]
     },
     "execution_count": 22,
     "metadata": {},
     "output_type": "execute_result"
    }
   ],
   "source": [
    "df_city"
   ]
  },
  {
   "cell_type": "code",
   "execution_count": 23,
   "id": "5cbe4c6d",
   "metadata": {},
   "outputs": [
    {
     "data": {
      "image/png": "[encoded data removed]",
      "text/plain": [
       "<Figure size 864x576 with 1 Axes>"
      ]
     },
     "metadata": {},
     "output_type": "display_data"
    }
   ],
   "source": [
    "fig, ax = plt.subplots(figsize=(12,8))\n",
    "\n",
    "bars = ax.bar(\n",
    "    x = df_city['City'],\n",
    "    height = df_city[\"Total Sales\"]\n",
    ")\n",
    "plt.title(\"Total Sales per City\", pad=20, fontsize=20)\n",
    "plt.xlabel(\"City\")\n",
    "plt.ylabel(\"Total Sales\")\n",
    "labels, locations = plt.yticks()\n",
    "plt.yticks(labels, (labels/1).astype(int))\n",
    "\n",
    "for bar in bars:\n",
    "  ax.text(\n",
    "      bar.get_x() + bar.get_width() / 2,\n",
    "      bar.get_height() + 0.8,\n",
    "      round(bar.get_height(), 1),\n",
    "      horizontalalignment='center'\n",
    "  )\n",
    "\n",
    "plt.show()"
   ]
  },
  {
   "cell_type": "markdown",
   "id": "cb87a2c2",
   "metadata": {},
   "source": [
    "San Francisco is the city that has the highest total sales with 8,254,743. Followed by the cities of Los Angeles and New York City. The lowest city is Austin with a total of 1,818,044"
   ]
  },
  {
   "cell_type": "markdown",
   "id": "447a2890",
   "metadata": {},
   "source": [
    "### Question 3: How are sales trends in the top 5 cities?"
   ]
  },
  {
   "cell_type": "code",
   "execution_count": 24,
   "id": "a381a06c",
   "metadata": {},
   "outputs": [
    {
     "data": {
      "image/png": "[encoded data removed]",
      "text/plain": [
       "<Figure size 864x432 with 1 Axes>"
      ]
     },
     "metadata": {},
     "output_type": "display_data"
    }
   ],
   "source": [
    "# create variable top city\n",
    "top_city = (\n",
    "    df.groupby(\"City\")[\"Total Sales\"]\n",
    "    .sum()\n",
    "    .reset_index()\n",
    "    .sort_values(by=\"Total Sales\", ascending=False)\n",
    "    .head()\n",
    ")\n",
    "\n",
    "# create column top_city\n",
    "df[\"Top City\"] = df[\"City\"].apply(lambda x: x if(x in top_city[\"City\"].to_list())else 'other')\n",
    "\n",
    "# plot multiline chart\n",
    "df.groupby(['Month', 'Top City'])['Total Sales'].sum().unstack().plot(marker='.', cmap=\"mako\")\n",
    "plt.ylabel(\"Total Sales\")\n",
    "plt.xlabel(\"Month\")\n",
    "plt.legend(loc=\"upper center\", bbox_to_anchor=(1.2, 1))\n",
    "plt.gcf().set_size_inches(12,6)\n",
    "plt.show()\n"
   ]
  },
  {
   "cell_type": "markdown",
   "id": "e31a53a2",
   "metadata": {},
   "source": [
    "The trend above is almost similar to the bar chart of total sales by month in question 1. There was a decrease from April to September."
   ]
  },
  {
   "cell_type": "markdown",
   "id": "ff989218",
   "metadata": {},
   "source": [
    "### Question 4: What time should we display adverstisement to maximize likelihood of customer's buying product?"
   ]
  },
  {
   "cell_type": "code",
   "execution_count": 25,
   "id": "0fbf6e17",
   "metadata": {},
   "outputs": [
    {
     "data": {
      "text/html": [
       "<div>\n",
       "<style scoped>\n",
       "    .dataframe tbody tr th:only-of-type {\n",
       "        vertical-align: middle;\n",
       "    }\n",
       "\n",
       "    .dataframe tbody tr th {\n",
       "        vertical-align: top;\n",
       "    }\n",
       "\n",
       "    .dataframe thead th {\n",
       "        text-align: right;\n",
       "    }\n",
       "</style>\n",
       "<table border=\"1\" class=\"dataframe\">\n",
       "  <thead>\n",
       "    <tr style=\"text-align: right;\">\n",
       "      <th></th>\n",
       "      <th>Order ID</th>\n",
       "      <th>Product</th>\n",
       "      <th>Quantity Ordered</th>\n",
       "      <th>Price Each</th>\n",
       "      <th>City</th>\n",
       "      <th>Month</th>\n",
       "      <th>Total Sales</th>\n",
       "      <th>Top City</th>\n",
       "    </tr>\n",
       "    <tr>\n",
       "      <th>Hour</th>\n",
       "      <th></th>\n",
       "      <th></th>\n",
       "      <th></th>\n",
       "      <th></th>\n",
       "      <th></th>\n",
       "      <th></th>\n",
       "      <th></th>\n",
       "      <th></th>\n",
       "    </tr>\n",
       "  </thead>\n",
       "  <tbody>\n",
       "    <tr>\n",
       "      <th>0</th>\n",
       "      <td>3902</td>\n",
       "      <td>3902</td>\n",
       "      <td>3902</td>\n",
       "      <td>3902</td>\n",
       "      <td>3902</td>\n",
       "      <td>3902</td>\n",
       "      <td>3902</td>\n",
       "      <td>3902</td>\n",
       "    </tr>\n",
       "    <tr>\n",
       "      <th>1</th>\n",
       "      <td>2347</td>\n",
       "      <td>2347</td>\n",
       "      <td>2347</td>\n",
       "      <td>2347</td>\n",
       "      <td>2347</td>\n",
       "      <td>2347</td>\n",
       "      <td>2347</td>\n",
       "      <td>2347</td>\n",
       "    </tr>\n",
       "    <tr>\n",
       "      <th>2</th>\n",
       "      <td>1242</td>\n",
       "      <td>1242</td>\n",
       "      <td>1242</td>\n",
       "      <td>1242</td>\n",
       "      <td>1242</td>\n",
       "      <td>1242</td>\n",
       "      <td>1242</td>\n",
       "      <td>1242</td>\n",
       "    </tr>\n",
       "    <tr>\n",
       "      <th>3</th>\n",
       "      <td>830</td>\n",
       "      <td>830</td>\n",
       "      <td>830</td>\n",
       "      <td>830</td>\n",
       "      <td>830</td>\n",
       "      <td>830</td>\n",
       "      <td>830</td>\n",
       "      <td>830</td>\n",
       "    </tr>\n",
       "    <tr>\n",
       "      <th>4</th>\n",
       "      <td>852</td>\n",
       "      <td>852</td>\n",
       "      <td>852</td>\n",
       "      <td>852</td>\n",
       "      <td>852</td>\n",
       "      <td>852</td>\n",
       "      <td>852</td>\n",
       "      <td>852</td>\n",
       "    </tr>\n",
       "    <tr>\n",
       "      <th>5</th>\n",
       "      <td>1320</td>\n",
       "      <td>1320</td>\n",
       "      <td>1320</td>\n",
       "      <td>1320</td>\n",
       "      <td>1320</td>\n",
       "      <td>1320</td>\n",
       "      <td>1320</td>\n",
       "      <td>1320</td>\n",
       "    </tr>\n",
       "    <tr>\n",
       "      <th>6</th>\n",
       "      <td>2481</td>\n",
       "      <td>2481</td>\n",
       "      <td>2481</td>\n",
       "      <td>2481</td>\n",
       "      <td>2481</td>\n",
       "      <td>2481</td>\n",
       "      <td>2481</td>\n",
       "      <td>2481</td>\n",
       "    </tr>\n",
       "    <tr>\n",
       "      <th>7</th>\n",
       "      <td>4002</td>\n",
       "      <td>4002</td>\n",
       "      <td>4002</td>\n",
       "      <td>4002</td>\n",
       "      <td>4002</td>\n",
       "      <td>4002</td>\n",
       "      <td>4002</td>\n",
       "      <td>4002</td>\n",
       "    </tr>\n",
       "    <tr>\n",
       "      <th>8</th>\n",
       "      <td>6252</td>\n",
       "      <td>6252</td>\n",
       "      <td>6252</td>\n",
       "      <td>6252</td>\n",
       "      <td>6252</td>\n",
       "      <td>6252</td>\n",
       "      <td>6252</td>\n",
       "      <td>6252</td>\n",
       "    </tr>\n",
       "    <tr>\n",
       "      <th>9</th>\n",
       "      <td>8740</td>\n",
       "      <td>8740</td>\n",
       "      <td>8740</td>\n",
       "      <td>8740</td>\n",
       "      <td>8740</td>\n",
       "      <td>8740</td>\n",
       "      <td>8740</td>\n",
       "      <td>8740</td>\n",
       "    </tr>\n",
       "    <tr>\n",
       "      <th>10</th>\n",
       "      <td>10929</td>\n",
       "      <td>10929</td>\n",
       "      <td>10929</td>\n",
       "      <td>10929</td>\n",
       "      <td>10929</td>\n",
       "      <td>10929</td>\n",
       "      <td>10929</td>\n",
       "      <td>10929</td>\n",
       "    </tr>\n",
       "    <tr>\n",
       "      <th>11</th>\n",
       "      <td>12392</td>\n",
       "      <td>12392</td>\n",
       "      <td>12392</td>\n",
       "      <td>12392</td>\n",
       "      <td>12392</td>\n",
       "      <td>12392</td>\n",
       "      <td>12392</td>\n",
       "      <td>12392</td>\n",
       "    </tr>\n",
       "    <tr>\n",
       "      <th>12</th>\n",
       "      <td>12573</td>\n",
       "      <td>12573</td>\n",
       "      <td>12573</td>\n",
       "      <td>12573</td>\n",
       "      <td>12573</td>\n",
       "      <td>12573</td>\n",
       "      <td>12573</td>\n",
       "      <td>12573</td>\n",
       "    </tr>\n",
       "    <tr>\n",
       "      <th>13</th>\n",
       "      <td>12115</td>\n",
       "      <td>12115</td>\n",
       "      <td>12115</td>\n",
       "      <td>12115</td>\n",
       "      <td>12115</td>\n",
       "      <td>12115</td>\n",
       "      <td>12115</td>\n",
       "      <td>12115</td>\n",
       "    </tr>\n",
       "    <tr>\n",
       "      <th>14</th>\n",
       "      <td>10965</td>\n",
       "      <td>10965</td>\n",
       "      <td>10965</td>\n",
       "      <td>10965</td>\n",
       "      <td>10965</td>\n",
       "      <td>10965</td>\n",
       "      <td>10965</td>\n",
       "      <td>10965</td>\n",
       "    </tr>\n",
       "    <tr>\n",
       "      <th>15</th>\n",
       "      <td>10159</td>\n",
       "      <td>10159</td>\n",
       "      <td>10159</td>\n",
       "      <td>10159</td>\n",
       "      <td>10159</td>\n",
       "      <td>10159</td>\n",
       "      <td>10159</td>\n",
       "      <td>10159</td>\n",
       "    </tr>\n",
       "    <tr>\n",
       "      <th>16</th>\n",
       "      <td>10359</td>\n",
       "      <td>10359</td>\n",
       "      <td>10359</td>\n",
       "      <td>10359</td>\n",
       "      <td>10359</td>\n",
       "      <td>10359</td>\n",
       "      <td>10359</td>\n",
       "      <td>10359</td>\n",
       "    </tr>\n",
       "    <tr>\n",
       "      <th>17</th>\n",
       "      <td>10884</td>\n",
       "      <td>10884</td>\n",
       "      <td>10884</td>\n",
       "      <td>10884</td>\n",
       "      <td>10884</td>\n",
       "      <td>10884</td>\n",
       "      <td>10884</td>\n",
       "      <td>10884</td>\n",
       "    </tr>\n",
       "    <tr>\n",
       "      <th>18</th>\n",
       "      <td>12263</td>\n",
       "      <td>12263</td>\n",
       "      <td>12263</td>\n",
       "      <td>12263</td>\n",
       "      <td>12263</td>\n",
       "      <td>12263</td>\n",
       "      <td>12263</td>\n",
       "      <td>12263</td>\n",
       "    </tr>\n",
       "    <tr>\n",
       "      <th>19</th>\n",
       "      <td>12886</td>\n",
       "      <td>12886</td>\n",
       "      <td>12886</td>\n",
       "      <td>12886</td>\n",
       "      <td>12886</td>\n",
       "      <td>12886</td>\n",
       "      <td>12886</td>\n",
       "      <td>12886</td>\n",
       "    </tr>\n",
       "    <tr>\n",
       "      <th>20</th>\n",
       "      <td>12218</td>\n",
       "      <td>12218</td>\n",
       "      <td>12218</td>\n",
       "      <td>12218</td>\n",
       "      <td>12218</td>\n",
       "      <td>12218</td>\n",
       "      <td>12218</td>\n",
       "      <td>12218</td>\n",
       "    </tr>\n",
       "    <tr>\n",
       "      <th>21</th>\n",
       "      <td>10905</td>\n",
       "      <td>10905</td>\n",
       "      <td>10905</td>\n",
       "      <td>10905</td>\n",
       "      <td>10905</td>\n",
       "      <td>10905</td>\n",
       "      <td>10905</td>\n",
       "      <td>10905</td>\n",
       "    </tr>\n",
       "    <tr>\n",
       "      <th>22</th>\n",
       "      <td>8808</td>\n",
       "      <td>8808</td>\n",
       "      <td>8808</td>\n",
       "      <td>8808</td>\n",
       "      <td>8808</td>\n",
       "      <td>8808</td>\n",
       "      <td>8808</td>\n",
       "      <td>8808</td>\n",
       "    </tr>\n",
       "    <tr>\n",
       "      <th>23</th>\n",
       "      <td>6262</td>\n",
       "      <td>6262</td>\n",
       "      <td>6262</td>\n",
       "      <td>6262</td>\n",
       "      <td>6262</td>\n",
       "      <td>6262</td>\n",
       "      <td>6262</td>\n",
       "      <td>6262</td>\n",
       "    </tr>\n",
       "  </tbody>\n",
       "</table>\n",
       "</div>"
      ],
      "text/plain": [
       "      Order ID  Product  Quantity Ordered  Price Each   City  Month  \\\n",
       "Hour                                                                  \n",
       "0         3902     3902              3902        3902   3902   3902   \n",
       "1         2347     2347              2347        2347   2347   2347   \n",
       "2         1242     1242              1242        1242   1242   1242   \n",
       "3          830      830               830         830    830    830   \n",
       "4          852      852               852         852    852    852   \n",
       "5         1320     1320              1320        1320   1320   1320   \n",
       "6         2481     2481              2481        2481   2481   2481   \n",
       "7         4002     4002              4002        4002   4002   4002   \n",
       "8         6252     6252              6252        6252   6252   6252   \n",
       "9         8740     8740              8740        8740   8740   8740   \n",
       "10       10929    10929             10929       10929  10929  10929   \n",
       "11       12392    12392             12392       12392  12392  12392   \n",
       "12       12573    12573             12573       12573  12573  12573   \n",
       "13       12115    12115             12115       12115  12115  12115   \n",
       "14       10965    10965             10965       10965  10965  10965   \n",
       "15       10159    10159             10159       10159  10159  10159   \n",
       "16       10359    10359             10359       10359  10359  10359   \n",
       "17       10884    10884             10884       10884  10884  10884   \n",
       "18       12263    12263             12263       12263  12263  12263   \n",
       "19       12886    12886             12886       12886  12886  12886   \n",
       "20       12218    12218             12218       12218  12218  12218   \n",
       "21       10905    10905             10905       10905  10905  10905   \n",
       "22        8808     8808              8808        8808   8808   8808   \n",
       "23        6262     6262              6262        6262   6262   6262   \n",
       "\n",
       "      Total Sales  Top City  \n",
       "Hour                         \n",
       "0            3902      3902  \n",
       "1            2347      2347  \n",
       "2            1242      1242  \n",
       "3             830       830  \n",
       "4             852       852  \n",
       "5            1320      1320  \n",
       "6            2481      2481  \n",
       "7            4002      4002  \n",
       "8            6252      6252  \n",
       "9            8740      8740  \n",
       "10          10929     10929  \n",
       "11          12392     12392  \n",
       "12          12573     12573  \n",
       "13          12115     12115  \n",
       "14          10965     10965  \n",
       "15          10159     10159  \n",
       "16          10359     10359  \n",
       "17          10884     10884  \n",
       "18          12263     12263  \n",
       "19          12886     12886  \n",
       "20          12218     12218  \n",
       "21          10905     10905  \n",
       "22           8808      8808  \n",
       "23           6262      6262  "
      ]
     },
     "execution_count": 25,
     "metadata": {},
     "output_type": "execute_result"
    }
   ],
   "source": [
    "df_hour = df.groupby(\"Hour\").count()\n",
    "df_hour"
   ]
  },
  {
   "cell_type": "code",
   "execution_count": 26,
   "id": "cd3cd4fc",
   "metadata": {},
   "outputs": [
    {
     "data": {
      "image/png": "[encoded data removed]",
      "text/plain": [
       "<Figure size 720x432 with 1 Axes>"
      ]
     },
     "metadata": {},
     "output_type": "display_data"
    }
   ],
   "source": [
    "plt.figure(figsize=(10,6))\n",
    "plt.plot(df.groupby(\"Hour\").count())\n",
    "plt.title(\"Number of Orders by Hour\", pad=20, fontsize=20)\n",
    "plt.ylabel(\"Number of Order\")\n",
    "plt.xlabel(\"Hour\")\n",
    "plt.xticks(range(0,24))\n",
    "\n",
    "plt.annotate(\"10.929 Orders\", xy=(10, 10929),\n",
    "            xytext=(4, 10929), color='black',\n",
    "             arrowprops=dict(arrowstyle='-',\n",
    "                            connectionstyle=\"angle\",\n",
    "                            color=\"black\")\n",
    "            )\n",
    "\n",
    "plt.annotate(\"10.905 Orders\", xy=(21, 10905),\n",
    "            xytext=(24, 10905), color='black',\n",
    "             arrowprops=dict(arrowstyle='-',\n",
    "                            connectionstyle=\"angle\",\n",
    "                            color=\"black\")\n",
    "            )\n",
    "\n",
    "plt.show()"
   ]
  },
  {
   "cell_type": "markdown",
   "id": "fc5344f4",
   "metadata": {},
   "source": [
    "From the line chart it can be seen that the quantity of orders is greater in the range of 10.00 am to 21.00 pm. At 10.00 am sales orders started to increase with the amount of 10,929. then experienced increases and decreases which were not too significant and ended at 21.00 pm with a total order of 10,905. In this hour range the number of installations is more than other hours. And the time span of these hours is also the time when people will be active for activities or shopping. So, the right time to do advertising is in the range of 10.00 am to 21.00 pm"
   ]
  },
  {
   "cell_type": "markdown",
   "id": "0feb7e73",
   "metadata": {},
   "source": [
    "### Question 5: What products are most often sold together?"
   ]
  },
  {
   "cell_type": "code",
   "execution_count": 27,
   "id": "577e7086",
   "metadata": {},
   "outputs": [
    {
     "name": "stdout",
     "output_type": "stream",
     "text": [
      "('iPhone', 'Lightning Charging Cable') 1002\n",
      "('Google Phone', 'USB-C Charging Cable') 985\n",
      "('iPhone', 'Wired Headphones') 447\n",
      "('Google Phone', 'Wired Headphones') 413\n",
      "('Vareebadd Phone', 'USB-C Charging Cable') 361\n",
      "('iPhone', 'Apple Airpods Headphones') 360\n",
      "('Google Phone', 'Bose SoundSport Headphones') 220\n",
      "('USB-C Charging Cable', 'Wired Headphones') 159\n",
      "('Vareebadd Phone', 'Wired Headphones') 143\n",
      "('Lightning Charging Cable', 'Wired Headphones') 92\n"
     ]
    },
    {
     "name": "stderr",
     "output_type": "stream",
     "text": [
      "C:\\Users\\HP\\AppData\\Local\\Temp/ipykernel_12820/2148493857.py:3: SettingWithCopyWarning: \n",
      "A value is trying to be set on a copy of a slice from a DataFrame.\n",
      "Try using .loc[row_indexer,col_indexer] = value instead\n",
      "\n",
      "See the caveats in the documentation: https://pandas.pydata.org/pandas-docs/stable/user_guide/indexing.html#returning-a-view-versus-a-copy\n",
      "  df_product['Grouped'] = df_product.groupby('Order ID')['Product'].transform(lambda x: ','.join(x))\n"
     ]
    }
   ],
   "source": [
    "df_product = df[df['Order ID'].duplicated(keep=False)]\n",
    "\n",
    "df_product['Grouped'] = df_product.groupby('Order ID')['Product'].transform(lambda x: ','.join(x))\n",
    "df_product_sold = df_product[['Order ID', 'Grouped']].drop_duplicates()\n",
    "\n",
    "count = Counter()\n",
    "\n",
    "for row in df_product_sold['Grouped']:\n",
    "    row_list = row.split(',')\n",
    "    count.update(Counter(combinations(row_list, 2)))\n",
    "\n",
    "for key,value in count.most_common(10):\n",
    "    print(key, value)"
   ]
  },
  {
   "cell_type": "markdown",
   "id": "1e829a19",
   "metadata": {},
   "source": [
    "We can see the highest that the Iphone is more often sold together with the Lightning Charge Cable. The second is a Google Phone with a USB-C Charging Cable. The pattern shows that when a customer buys a cellphone, it is likely that he will also buy cellphone accessories at the same time"
   ]
  },
  {
   "cell_type": "markdown",
   "id": "b15f621d",
   "metadata": {},
   "source": [
    "### Question 6: What product sold the most? Why do you think it sold the most?"
   ]
  },
  {
   "cell_type": "code",
   "execution_count": 28,
   "id": "14e36fe6",
   "metadata": {},
   "outputs": [],
   "source": [
    "df_product = df.groupby('Product')['Quantity Ordered'].sum().reset_index()"
   ]
  },
  {
   "cell_type": "code",
   "execution_count": 29,
   "id": "a6d9fd16",
   "metadata": {},
   "outputs": [
    {
     "data": {
      "text/html": [
       "<div>\n",
       "<style scoped>\n",
       "    .dataframe tbody tr th:only-of-type {\n",
       "        vertical-align: middle;\n",
       "    }\n",
       "\n",
       "    .dataframe tbody tr th {\n",
       "        vertical-align: top;\n",
       "    }\n",
       "\n",
       "    .dataframe thead th {\n",
       "        text-align: right;\n",
       "    }\n",
       "</style>\n",
       "<table border=\"1\" class=\"dataframe\">\n",
       "  <thead>\n",
       "    <tr style=\"text-align: right;\">\n",
       "      <th></th>\n",
       "      <th>Product</th>\n",
       "      <th>Quantity Ordered</th>\n",
       "    </tr>\n",
       "  </thead>\n",
       "  <tbody>\n",
       "    <tr>\n",
       "      <th>0</th>\n",
       "      <td>20in Monitor</td>\n",
       "      <td>4126</td>\n",
       "    </tr>\n",
       "    <tr>\n",
       "      <th>1</th>\n",
       "      <td>27in 4K Gaming Monitor</td>\n",
       "      <td>6239</td>\n",
       "    </tr>\n",
       "    <tr>\n",
       "      <th>2</th>\n",
       "      <td>27in FHD Monitor</td>\n",
       "      <td>7541</td>\n",
       "    </tr>\n",
       "    <tr>\n",
       "      <th>3</th>\n",
       "      <td>34in Ultrawide Monitor</td>\n",
       "      <td>6192</td>\n",
       "    </tr>\n",
       "    <tr>\n",
       "      <th>4</th>\n",
       "      <td>AA Batteries (4-pack)</td>\n",
       "      <td>27615</td>\n",
       "    </tr>\n",
       "    <tr>\n",
       "      <th>5</th>\n",
       "      <td>AAA Batteries (4-pack)</td>\n",
       "      <td>30986</td>\n",
       "    </tr>\n",
       "    <tr>\n",
       "      <th>6</th>\n",
       "      <td>Apple Airpods Headphones</td>\n",
       "      <td>15637</td>\n",
       "    </tr>\n",
       "    <tr>\n",
       "      <th>7</th>\n",
       "      <td>Bose SoundSport Headphones</td>\n",
       "      <td>13430</td>\n",
       "    </tr>\n",
       "    <tr>\n",
       "      <th>8</th>\n",
       "      <td>Flatscreen TV</td>\n",
       "      <td>4813</td>\n",
       "    </tr>\n",
       "    <tr>\n",
       "      <th>9</th>\n",
       "      <td>Google Phone</td>\n",
       "      <td>5529</td>\n",
       "    </tr>\n",
       "    <tr>\n",
       "      <th>10</th>\n",
       "      <td>LG Dryer</td>\n",
       "      <td>646</td>\n",
       "    </tr>\n",
       "    <tr>\n",
       "      <th>11</th>\n",
       "      <td>LG Washing Machine</td>\n",
       "      <td>666</td>\n",
       "    </tr>\n",
       "    <tr>\n",
       "      <th>12</th>\n",
       "      <td>Lightning Charging Cable</td>\n",
       "      <td>23169</td>\n",
       "    </tr>\n",
       "    <tr>\n",
       "      <th>13</th>\n",
       "      <td>Macbook Pro Laptop</td>\n",
       "      <td>4725</td>\n",
       "    </tr>\n",
       "    <tr>\n",
       "      <th>14</th>\n",
       "      <td>ThinkPad Laptop</td>\n",
       "      <td>4128</td>\n",
       "    </tr>\n",
       "    <tr>\n",
       "      <th>15</th>\n",
       "      <td>USB-C Charging Cable</td>\n",
       "      <td>23931</td>\n",
       "    </tr>\n",
       "    <tr>\n",
       "      <th>16</th>\n",
       "      <td>Vareebadd Phone</td>\n",
       "      <td>2068</td>\n",
       "    </tr>\n",
       "    <tr>\n",
       "      <th>17</th>\n",
       "      <td>Wired Headphones</td>\n",
       "      <td>20524</td>\n",
       "    </tr>\n",
       "    <tr>\n",
       "      <th>18</th>\n",
       "      <td>iPhone</td>\n",
       "      <td>6847</td>\n",
       "    </tr>\n",
       "  </tbody>\n",
       "</table>\n",
       "</div>"
      ],
      "text/plain": [
       "                       Product  Quantity Ordered\n",
       "0                 20in Monitor              4126\n",
       "1       27in 4K Gaming Monitor              6239\n",
       "2             27in FHD Monitor              7541\n",
       "3       34in Ultrawide Monitor              6192\n",
       "4        AA Batteries (4-pack)             27615\n",
       "5       AAA Batteries (4-pack)             30986\n",
       "6     Apple Airpods Headphones             15637\n",
       "7   Bose SoundSport Headphones             13430\n",
       "8                Flatscreen TV              4813\n",
       "9                 Google Phone              5529\n",
       "10                    LG Dryer               646\n",
       "11          LG Washing Machine               666\n",
       "12    Lightning Charging Cable             23169\n",
       "13          Macbook Pro Laptop              4725\n",
       "14             ThinkPad Laptop              4128\n",
       "15        USB-C Charging Cable             23931\n",
       "16             Vareebadd Phone              2068\n",
       "17            Wired Headphones             20524\n",
       "18                      iPhone              6847"
      ]
     },
     "execution_count": 29,
     "metadata": {},
     "output_type": "execute_result"
    }
   ],
   "source": [
    "df_product"
   ]
  },
  {
   "cell_type": "code",
   "execution_count": 30,
   "id": "29b775d1",
   "metadata": {},
   "outputs": [
    {
     "data": {
      "image/png": "[encoded data removed]",
      "text/plain": [
       "<Figure size 864x576 with 1 Axes>"
      ]
     },
     "metadata": {},
     "output_type": "display_data"
    }
   ],
   "source": [
    "fig, ax = plt.subplots(figsize=(12,8))\n",
    "\n",
    "bars = ax.bar(\n",
    "    x = df_product['Product'],\n",
    "    height = df_product[\"Quantity Ordered\"]\n",
    ")\n",
    "plt.title(\"Total Sales per City\", pad=20, fontsize=20)\n",
    "plt.xlabel(\"City\")\n",
    "plt.ylabel(\"Total Sales\")\n",
    "labels, locations = plt.yticks()\n",
    "plt.yticks(labels, (labels/1).astype(int))\n",
    "plt.xticks(rotation=\"vertical\")\n",
    "\n",
    "for bar in bars:\n",
    "  ax.text(\n",
    "      bar.get_x() + bar.get_width() / 2,\n",
    "      bar.get_height() + 0.8,\n",
    "      round(bar.get_height(), 1),\n",
    "      horizontalalignment='center'\n",
    "  )\n",
    "\n",
    "plt.show()"
   ]
  },
  {
   "cell_type": "markdown",
   "id": "efb4fb14",
   "metadata": {},
   "source": [
    "AAA Batteries (4-packs) were the most sold products with 30986 followed by AA Batteries (4-packs) and USB-C charging cables. Meanwhile, the product that sold the least was the LG Dryer with 646 followed by the LG Washing Machine with 666."
   ]
  },
  {
   "cell_type": "markdown",
   "id": "4e78ae11",
   "metadata": {},
   "source": [
    "# Conclusion"
   ]
  },
  {
   "cell_type": "markdown",
   "id": "bbb74e9e",
   "metadata": {},
   "source": [
    "Some of the findings after analyzing the data above are as follows:\n",
    "1. The most sales occurred in December. While the lowest is in January. The highest earnings in december reached $ 4608295.70\n",
    "2. San Francisco is the city that has the highest total sales with 8,254,743. The lowest city is Austin with a total of 1,818,044\n",
    "3. There was a decrease from April to September.\n",
    "4. Thee right time to do advertising is in the range of 10.00 am to 21.00 pm\n",
    "5. Iphone is more often sold together with the Lightning Charge Cable.\n",
    "6. AAA Batteries (4-packs) were the most sold products with 30986, While the least sold products were LG Dryer with 646."
   ]
  },
  {
   "cell_type": "markdown",
   "id": "22806f9a",
   "metadata": {},
   "source": [
    "We can advise company managers to:\n",
    "1. Finding out what happened in April-September, because in the middle of the year sales decreased compared to other months. Maybe it could be caused by external and internal conditions of the company. External conditions such as certain events, pandemics, financial crises, etc. Meanwhile, internal conditions may include stock of goods, quality of goods, loss/theft of goods, marketing activities, etc. Thus, the company can anticipate that the following year will not experience a decline.\n",
    "2. Responding to the lowest sales in several cities, companies can carry out promotional strategies such as free shipping or adding cheaper shipping options.\n",
    "3. Seeing that sales of mobile phones with accessories are more often sold simultaneously. Companies can carry out marketing strategies by providing special prices for purchasing cellphones and their accessories directly. This step can attract customers.\n",
    "4. For the fewest items sold, the company can carry out markeitng strategy such as flash sales, discounts, price reductions, or other marketing strategies."
   ]
  }
 ],
 "metadata": {
  "kernelspec": {
   "display_name": "Python 3 (ipykernel)",
   "language": "python",
   "name": "python3"
  },
  "language_info": {
   "codemirror_mode": {
    "name": "ipython",
    "version": 3
   },
   "file_extension": ".py",
   "mimetype": "text/x-python",
   "name": "python",
   "nbconvert_exporter": "python",
   "pygments_lexer": "ipython3",
   "version": "3.9.7"
  }
 },
 "nbformat": 4,
 "nbformat_minor": 5
}
